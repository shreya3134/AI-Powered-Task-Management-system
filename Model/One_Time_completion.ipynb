{
 "cells": [
  {
   "cell_type": "code",
   "execution_count": 1,
   "id": "81fc4f19-f9fd-4a9b-968f-62127f916a7e",
   "metadata": {},
   "outputs": [],
   "source": [
    "import pandas as pd\n",
    "from sklearn.model_selection import train_test_split\n",
    "from sklearn.ensemble import RandomForestClassifier, RandomForestRegressor\n",
    "from sklearn.preprocessing import LabelEncoder\n",
    "from sklearn.metrics import accuracy_score, mean_squared_error"
   ]
  },
  {
   "cell_type": "code",
   "execution_count": 5,
   "id": "0a6a3931-5d67-453c-8468-f368b96bde0f",
   "metadata": {},
   "outputs": [
    {
     "name": "stderr",
     "output_type": "stream",
     "text": [
      "C:\\Users\\swapnil\\AppData\\Local\\Temp\\ipykernel_61740\\1767425528.py:9: UserWarning: Parsing dates in %d-%m-%Y format when dayfirst=False (the default) was specified. Pass `dayfirst=True` or specify a format to silence this warning.\n",
      "  df['Due Date'] = pd.to_datetime(df['Due Date'], errors='coerce')\n",
      "C:\\Users\\swapnil\\AppData\\Local\\Temp\\ipykernel_61740\\1767425528.py:10: UserWarning: Parsing dates in %d-%m-%Y format when dayfirst=False (the default) was specified. Pass `dayfirst=True` or specify a format to silence this warning.\n",
      "  df['Last Updated'] = pd.to_datetime(df['Last Updated'], errors='coerce')\n"
     ]
    }
   ],
   "source": [
    "# Load dataset\n",
    "df = pd.read_csv('Book.csv')  # Replace with your file\n",
    "\n",
    "drop_cols = [\n",
    "    'Meeting Link', 'Tags','Notifications Enabled','Reminder Date','Attachments','Custom Field 1','Custom Field 2','Blockers','Color Code']\n",
    "df.drop(columns=drop_cols, inplace=True)\n",
    "\n",
    "# Handle dates\n",
    "df['Due Date'] = pd.to_datetime(df['Due Date'], errors='coerce')\n",
    "df['Last Updated'] = pd.to_datetime(df['Last Updated'], errors='coerce')\n",
    "\n",
    "# Create target column for on-time completion\n",
    "df['On_Time_Completion'] = (df['Last Updated'] <= df['Due Date']).astype(int)\n",
    "\n",
    "# Encode necessary categorical fields\n",
    "label_cols = ['Category', 'Sub-Category', 'Risk Level', 'Dependencies', \n",
    "              'Status', 'Priority', 'Assigned To']"
   ]
  },
  {
   "cell_type": "code",
   "execution_count": 6,
   "id": "8f2c4630-7729-4079-91dc-f133cab677e7",
   "metadata": {},
   "outputs": [
    {
     "data": {
      "text/plain": [
       "Task ID                      0\n",
       "Task Name                    0\n",
       "Description                  0\n",
       "Priority                     0\n",
       "Status                       0\n",
       "Due Date                     0\n",
       "Assigned To                  0\n",
       "Created By                   0\n",
       "Creation Date                0\n",
       "Last Updated                75\n",
       "Dependencies                10\n",
       "Estimated Effort (Hours)     0\n",
       "Actual Effort (Hours)        0\n",
       "Completion Percentage       75\n",
       "Notes                        9\n",
       "Category                     0\n",
       "Sub-Category                 0\n",
       "Location                     0\n",
       "Risk Level                   0\n",
       "Risk Description             0\n",
       "Resolution Plan              0\n",
       "Unnamed: 30                 62\n",
       "On_Time_Completion           0\n",
       "dtype: int64"
      ]
     },
     "execution_count": 6,
     "metadata": {},
     "output_type": "execute_result"
    }
   ],
   "source": [
    "df.isnull().sum()"
   ]
  },
  {
   "cell_type": "code",
   "execution_count": 7,
   "id": "a82786bc-6a89-4168-9015-b601d34feb21",
   "metadata": {},
   "outputs": [
    {
     "data": {
      "text/html": [
       "<div>\n",
       "<style scoped>\n",
       "    .dataframe tbody tr th:only-of-type {\n",
       "        vertical-align: middle;\n",
       "    }\n",
       "\n",
       "    .dataframe tbody tr th {\n",
       "        vertical-align: top;\n",
       "    }\n",
       "\n",
       "    .dataframe thead th {\n",
       "        text-align: right;\n",
       "    }\n",
       "</style>\n",
       "<table border=\"1\" class=\"dataframe\">\n",
       "  <thead>\n",
       "    <tr style=\"text-align: right;\">\n",
       "      <th></th>\n",
       "      <th>Task ID</th>\n",
       "      <th>Task Name</th>\n",
       "      <th>Description</th>\n",
       "      <th>Priority</th>\n",
       "      <th>Status</th>\n",
       "      <th>Due Date</th>\n",
       "      <th>Assigned To</th>\n",
       "      <th>Created By</th>\n",
       "      <th>Creation Date</th>\n",
       "      <th>Last Updated</th>\n",
       "      <th>...</th>\n",
       "      <th>Completion Percentage</th>\n",
       "      <th>Notes</th>\n",
       "      <th>Category</th>\n",
       "      <th>Sub-Category</th>\n",
       "      <th>Location</th>\n",
       "      <th>Risk Level</th>\n",
       "      <th>Risk Description</th>\n",
       "      <th>Resolution Plan</th>\n",
       "      <th>Unnamed: 30</th>\n",
       "      <th>On_Time_Completion</th>\n",
       "    </tr>\n",
       "  </thead>\n",
       "  <tbody>\n",
       "    <tr>\n",
       "      <th>0</th>\n",
       "      <td>TASK026</td>\n",
       "      <td>Update Project Timeline</td>\n",
       "      <td>Revise the project schedule based on recent pr...</td>\n",
       "      <td>High</td>\n",
       "      <td>In Progress</td>\n",
       "      <td>2025-04-29</td>\n",
       "      <td>John Doe</td>\n",
       "      <td>Jane Smith</td>\n",
       "      <td>18-04-2025</td>\n",
       "      <td>2025-04-21</td>\n",
       "      <td>...</td>\n",
       "      <td>70</td>\n",
       "      <td>Need to incorporate feedback on staging deploy...</td>\n",
       "      <td>Project Planning</td>\n",
       "      <td>Scheduling</td>\n",
       "      <td>Online</td>\n",
       "      <td>Medium</td>\n",
       "      <td>Potential slippage due to deployment issues.</td>\n",
       "      <td>Re-evaluate dependencies and allocate buffer t...</td>\n",
       "      <td>NaN</td>\n",
       "      <td>1</td>\n",
       "    </tr>\n",
       "    <tr>\n",
       "      <th>1</th>\n",
       "      <td>TASK027</td>\n",
       "      <td>Develop User Profile Page</td>\n",
       "      <td>Implement the frontend and backend logic for u...</td>\n",
       "      <td>High</td>\n",
       "      <td>In Progress</td>\n",
       "      <td>2025-05-05</td>\n",
       "      <td>Alice Brown</td>\n",
       "      <td>Bob Green</td>\n",
       "      <td>18-04-2025</td>\n",
       "      <td>2025-04-22</td>\n",
       "      <td>...</td>\n",
       "      <td>83</td>\n",
       "      <td>Integrating with authentication service.</td>\n",
       "      <td>Development</td>\n",
       "      <td>User Accounts</td>\n",
       "      <td>Local</td>\n",
       "      <td>Low</td>\n",
       "      <td>Minor UI alignment issues.</td>\n",
       "      <td>Address during final testing.</td>\n",
       "      <td>NaN</td>\n",
       "      <td>1</td>\n",
       "    </tr>\n",
       "    <tr>\n",
       "      <th>2</th>\n",
       "      <td>TASK028</td>\n",
       "      <td>Run A/B Tests on Landing Page</td>\n",
       "      <td>Experiment with different versions of the land...</td>\n",
       "      <td>Medium</td>\n",
       "      <td>To Do</td>\n",
       "      <td>2025-05-12</td>\n",
       "      <td>Jane Smith</td>\n",
       "      <td>Charlie White</td>\n",
       "      <td>18-04-2025</td>\n",
       "      <td>NaT</td>\n",
       "      <td>...</td>\n",
       "      <td>NaN</td>\n",
       "      <td>0</td>\n",
       "      <td>Define key metrics and target audience segments.</td>\n",
       "      <td>Marketing</td>\n",
       "      <td>Local</td>\n",
       "      <td>Medium</td>\n",
       "      <td>Minor UI alignment issues.</td>\n",
       "      <td>Traffic volume might affect test duration.</td>\n",
       "      <td>Hypothesis 1</td>\n",
       "      <td>0</td>\n",
       "    </tr>\n",
       "    <tr>\n",
       "      <th>3</th>\n",
       "      <td>TASK029</td>\n",
       "      <td>Implement Role-Based Access Control</td>\n",
       "      <td>Secure the application by implementing differe...</td>\n",
       "      <td>High</td>\n",
       "      <td>To Do</td>\n",
       "      <td>2025-05-19</td>\n",
       "      <td>Bob Green</td>\n",
       "      <td>David Black</td>\n",
       "      <td>18-04-2025</td>\n",
       "      <td>NaT</td>\n",
       "      <td>...</td>\n",
       "      <td>NaN</td>\n",
       "      <td>0</td>\n",
       "      <td>Need clear definition of user roles and permis...</td>\n",
       "      <td>Development</td>\n",
       "      <td>Local</td>\n",
       "      <td>Medium</td>\n",
       "      <td>Minor UI alignment issues.</td>\n",
       "      <td>Potential security vulnerabilities if not impl...</td>\n",
       "      <td>Permissions Matrix</td>\n",
       "      <td>0</td>\n",
       "    </tr>\n",
       "    <tr>\n",
       "      <th>4</th>\n",
       "      <td>TASK030</td>\n",
       "      <td>Create API Documentation (v2)</td>\n",
       "      <td>Update the API documentation to reflect the la...</td>\n",
       "      <td>Low</td>\n",
       "      <td>In Progress</td>\n",
       "      <td>2025-05-26</td>\n",
       "      <td>Charlie White</td>\n",
       "      <td>Eve Grey</td>\n",
       "      <td>18-04-2025</td>\n",
       "      <td>2025-04-23</td>\n",
       "      <td>...</td>\n",
       "      <td>75</td>\n",
       "      <td>Documenting the new authentication methods.</td>\n",
       "      <td>Documentation</td>\n",
       "      <td>Technical</td>\n",
       "      <td>Online</td>\n",
       "      <td>Low</td>\n",
       "      <td>Keeping documentation up-to-date with developm...</td>\n",
       "      <td>Automate documentation generation where possible.</td>\n",
       "      <td>NaN</td>\n",
       "      <td>1</td>\n",
       "    </tr>\n",
       "  </tbody>\n",
       "</table>\n",
       "<p>5 rows × 23 columns</p>\n",
       "</div>"
      ],
      "text/plain": [
       "   Task ID                            Task Name  \\\n",
       "0  TASK026              Update Project Timeline   \n",
       "1  TASK027            Develop User Profile Page   \n",
       "2  TASK028        Run A/B Tests on Landing Page   \n",
       "3  TASK029  Implement Role-Based Access Control   \n",
       "4  TASK030        Create API Documentation (v2)   \n",
       "\n",
       "                                         Description Priority       Status  \\\n",
       "0  Revise the project schedule based on recent pr...     High  In Progress   \n",
       "1  Implement the frontend and backend logic for u...     High  In Progress   \n",
       "2  Experiment with different versions of the land...   Medium        To Do   \n",
       "3  Secure the application by implementing differe...     High        To Do   \n",
       "4  Update the API documentation to reflect the la...      Low  In Progress   \n",
       "\n",
       "    Due Date    Assigned To     Created By Creation Date Last Updated  ...  \\\n",
       "0 2025-04-29       John Doe     Jane Smith    18-04-2025   2025-04-21  ...   \n",
       "1 2025-05-05    Alice Brown      Bob Green    18-04-2025   2025-04-22  ...   \n",
       "2 2025-05-12     Jane Smith  Charlie White    18-04-2025          NaT  ...   \n",
       "3 2025-05-19      Bob Green    David Black    18-04-2025          NaT  ...   \n",
       "4 2025-05-26  Charlie White       Eve Grey    18-04-2025   2025-04-23  ...   \n",
       "\n",
       "  Completion Percentage                                              Notes  \\\n",
       "0                    70  Need to incorporate feedback on staging deploy...   \n",
       "1                    83           Integrating with authentication service.   \n",
       "2                   NaN                                                  0   \n",
       "3                   NaN                                                  0   \n",
       "4                    75        Documenting the new authentication methods.   \n",
       "\n",
       "                                            Category   Sub-Category Location  \\\n",
       "0                                   Project Planning     Scheduling   Online   \n",
       "1                                        Development  User Accounts    Local   \n",
       "2   Define key metrics and target audience segments.      Marketing    Local   \n",
       "3  Need clear definition of user roles and permis...    Development    Local   \n",
       "4                                      Documentation      Technical   Online   \n",
       "\n",
       "  Risk Level                                   Risk Description  \\\n",
       "0     Medium       Potential slippage due to deployment issues.   \n",
       "1        Low                         Minor UI alignment issues.   \n",
       "2     Medium                         Minor UI alignment issues.   \n",
       "3     Medium                         Minor UI alignment issues.   \n",
       "4        Low  Keeping documentation up-to-date with developm...   \n",
       "\n",
       "                                     Resolution Plan         Unnamed: 30  \\\n",
       "0  Re-evaluate dependencies and allocate buffer t...                 NaN   \n",
       "1                      Address during final testing.                 NaN   \n",
       "2         Traffic volume might affect test duration.        Hypothesis 1   \n",
       "3  Potential security vulnerabilities if not impl...  Permissions Matrix   \n",
       "4  Automate documentation generation where possible.                 NaN   \n",
       "\n",
       "  On_Time_Completion  \n",
       "0                  1  \n",
       "1                  1  \n",
       "2                  0  \n",
       "3                  0  \n",
       "4                  1  \n",
       "\n",
       "[5 rows x 23 columns]"
      ]
     },
     "execution_count": 7,
     "metadata": {},
     "output_type": "execute_result"
    }
   ],
   "source": [
    "df.head()"
   ]
  },
  {
   "cell_type": "code",
   "execution_count": 8,
   "id": "0a39d387-19d5-4e5e-a147-71aef98ef630",
   "metadata": {},
   "outputs": [],
   "source": [
    "encoders = {}\n",
    "for col in label_cols:\n",
    "    le = LabelEncoder()\n",
    "    df[col] = le.fit_transform(df[col].astype(str))\n",
    "    encoders[col] = le\n",
    "\n",
    "# Features for training\n",
    "features = ['Estimated Effort (Hours)','Category',\n",
    "            'Sub-Category','Risk Level', 'Status']\n"
   ]
  },
  {
   "cell_type": "code",
   "execution_count": 9,
   "id": "b89b1795-0893-4161-9038-45ccbf381b7f",
   "metadata": {},
   "outputs": [],
   "source": [
    "X = df[features]"
   ]
  },
  {
   "cell_type": "code",
   "execution_count": 29,
   "id": "ff28e3bd-cbda-452c-9f14-44cec7790264",
   "metadata": {},
   "outputs": [
    {
     "data": {
      "text/html": [
       "<style>#sk-container-id-1 {color: black;background-color: white;}#sk-container-id-1 pre{padding: 0;}#sk-container-id-1 div.sk-toggleable {background-color: white;}#sk-container-id-1 label.sk-toggleable__label {cursor: pointer;display: block;width: 100%;margin-bottom: 0;padding: 0.3em;box-sizing: border-box;text-align: center;}#sk-container-id-1 label.sk-toggleable__label-arrow:before {content: \"▸\";float: left;margin-right: 0.25em;color: #696969;}#sk-container-id-1 label.sk-toggleable__label-arrow:hover:before {color: black;}#sk-container-id-1 div.sk-estimator:hover label.sk-toggleable__label-arrow:before {color: black;}#sk-container-id-1 div.sk-toggleable__content {max-height: 0;max-width: 0;overflow: hidden;text-align: left;background-color: #f0f8ff;}#sk-container-id-1 div.sk-toggleable__content pre {margin: 0.2em;color: black;border-radius: 0.25em;background-color: #f0f8ff;}#sk-container-id-1 input.sk-toggleable__control:checked~div.sk-toggleable__content {max-height: 200px;max-width: 100%;overflow: auto;}#sk-container-id-1 input.sk-toggleable__control:checked~label.sk-toggleable__label-arrow:before {content: \"▾\";}#sk-container-id-1 div.sk-estimator input.sk-toggleable__control:checked~label.sk-toggleable__label {background-color: #d4ebff;}#sk-container-id-1 div.sk-label input.sk-toggleable__control:checked~label.sk-toggleable__label {background-color: #d4ebff;}#sk-container-id-1 input.sk-hidden--visually {border: 0;clip: rect(1px 1px 1px 1px);clip: rect(1px, 1px, 1px, 1px);height: 1px;margin: -1px;overflow: hidden;padding: 0;position: absolute;width: 1px;}#sk-container-id-1 div.sk-estimator {font-family: monospace;background-color: #f0f8ff;border: 1px dotted black;border-radius: 0.25em;box-sizing: border-box;margin-bottom: 0.5em;}#sk-container-id-1 div.sk-estimator:hover {background-color: #d4ebff;}#sk-container-id-1 div.sk-parallel-item::after {content: \"\";width: 100%;border-bottom: 1px solid gray;flex-grow: 1;}#sk-container-id-1 div.sk-label:hover label.sk-toggleable__label {background-color: #d4ebff;}#sk-container-id-1 div.sk-serial::before {content: \"\";position: absolute;border-left: 1px solid gray;box-sizing: border-box;top: 0;bottom: 0;left: 50%;z-index: 0;}#sk-container-id-1 div.sk-serial {display: flex;flex-direction: column;align-items: center;background-color: white;padding-right: 0.2em;padding-left: 0.2em;position: relative;}#sk-container-id-1 div.sk-item {position: relative;z-index: 1;}#sk-container-id-1 div.sk-parallel {display: flex;align-items: stretch;justify-content: center;background-color: white;position: relative;}#sk-container-id-1 div.sk-item::before, #sk-container-id-1 div.sk-parallel-item::before {content: \"\";position: absolute;border-left: 1px solid gray;box-sizing: border-box;top: 0;bottom: 0;left: 50%;z-index: -1;}#sk-container-id-1 div.sk-parallel-item {display: flex;flex-direction: column;z-index: 1;position: relative;background-color: white;}#sk-container-id-1 div.sk-parallel-item:first-child::after {align-self: flex-end;width: 50%;}#sk-container-id-1 div.sk-parallel-item:last-child::after {align-self: flex-start;width: 50%;}#sk-container-id-1 div.sk-parallel-item:only-child::after {width: 0;}#sk-container-id-1 div.sk-dashed-wrapped {border: 1px dashed gray;margin: 0 0.4em 0.5em 0.4em;box-sizing: border-box;padding-bottom: 0.4em;background-color: white;}#sk-container-id-1 div.sk-label label {font-family: monospace;font-weight: bold;display: inline-block;line-height: 1.2em;}#sk-container-id-1 div.sk-label-container {text-align: center;}#sk-container-id-1 div.sk-container {/* jupyter's `normalize.less` sets `[hidden] { display: none; }` but bootstrap.min.css set `[hidden] { display: none !important; }` so we also need the `!important` here to be able to override the default hidden behavior on the sphinx rendered scikit-learn.org. See: https://github.com/scikit-learn/scikit-learn/issues/21755 */display: inline-block !important;position: relative;}#sk-container-id-1 div.sk-text-repr-fallback {display: none;}</style><div id=\"sk-container-id-1\" class=\"sk-top-container\"><div class=\"sk-text-repr-fallback\"><pre>RandomForestClassifier()</pre><b>In a Jupyter environment, please rerun this cell to show the HTML representation or trust the notebook. <br />On GitHub, the HTML representation is unable to render, please try loading this page with nbviewer.org.</b></div><div class=\"sk-container\" hidden><div class=\"sk-item\"><div class=\"sk-estimator sk-toggleable\"><input class=\"sk-toggleable__control sk-hidden--visually\" id=\"sk-estimator-id-1\" type=\"checkbox\" checked><label for=\"sk-estimator-id-1\" class=\"sk-toggleable__label sk-toggleable__label-arrow\">RandomForestClassifier</label><div class=\"sk-toggleable__content\"><pre>RandomForestClassifier()</pre></div></div></div></div></div>"
      ],
      "text/plain": [
       "RandomForestClassifier()"
      ]
     },
     "execution_count": 29,
     "metadata": {},
     "output_type": "execute_result"
    }
   ],
   "source": [
    "y1 = df['On_Time_Completion']\n",
    "X_train1, X_test1, y_train1, y_test1 = train_test_split(X, y1, test_size=0.2, random_state=42)\n",
    "model1 = RandomForestClassifier()\n",
    "model1.fit(X_train1, y_train1)"
   ]
  },
  {
   "cell_type": "code",
   "execution_count": 11,
   "id": "9a5d4d76-2cd7-4bc2-987a-acd8be1833b9",
   "metadata": {},
   "outputs": [],
   "source": [
    "from sklearn.impute import SimpleImputer\n",
    "from sklearn.pipeline import make_pipeline\n",
    "\n",
    "# Create an imputer to fill NaNs with the mean (you can also use 'median', 'most_frequent', etc.)\n",
    "imputer = SimpleImputer(strategy='mean')\n",
    "model1 = make_pipeline(imputer, RandomForestClassifier())\n",
    "\n",
    "# Fit your pipeline\n",
    "model1.fit(X_train1, y_train1)\n",
    "y_pred1 = model1.predict(X_test1)\n"
   ]
  },
  {
   "cell_type": "code",
   "execution_count": 12,
   "id": "e0ca34aa-288c-4b2a-aa0c-c822d079771d",
   "metadata": {},
   "outputs": [],
   "source": [
    "from sklearn.ensemble import HistGradientBoostingClassifier\n",
    "\n",
    "model1 = HistGradientBoostingClassifier()\n",
    "model1.fit(X_train1, y_train1)\n",
    "y_pred1 = model1.predict(X_test1)\n"
   ]
  },
  {
   "cell_type": "code",
   "execution_count": 13,
   "id": "c2c24476-32be-490f-8a00-f6b58e756145",
   "metadata": {},
   "outputs": [],
   "source": [
    "y_pred1 = model1.predict(X_test1)"
   ]
  },
  {
   "cell_type": "code",
   "execution_count": 14,
   "id": "ce7983a5-53a0-425e-8989-8f248d6d1fce",
   "metadata": {},
   "outputs": [],
   "source": [
    "from sklearn.impute import SimpleImputer\n",
    "from sklearn.pipeline import make_pipeline\n",
    "\n",
    "# Impute both train and test\n",
    "imputer = SimpleImputer(strategy='mean')\n",
    "model1 = make_pipeline(imputer, RandomForestClassifier())\n",
    "\n",
    "model1.fit(X_train1, y_train1)\n",
    "y_pred1 = model1.predict(X_test1)\n"
   ]
  },
  {
   "cell_type": "code",
   "execution_count": 15,
   "id": "6c3ee986-ae80-4694-8d43-c9467631f85d",
   "metadata": {},
   "outputs": [],
   "source": [
    "from sklearn.pipeline import Pipeline\n",
    "\n",
    "pipeline = Pipeline([\n",
    "    ('imputer', SimpleImputer(strategy='mean')),\n",
    "    ('classifier', RandomForestClassifier())\n",
    "])\n",
    "\n",
    "pipeline.fit(X_train1, y_train1)\n",
    "y_pred1 = pipeline.predict(X_test1)\n"
   ]
  },
  {
   "cell_type": "code",
   "execution_count": 16,
   "id": "652369cf-6227-41ef-bd4b-32a31b57ad82",
   "metadata": {},
   "outputs": [
    {
     "name": "stdout",
     "output_type": "stream",
     "text": [
      "Accuracy: 1.0\n",
      "\n",
      "Classification Report:\n",
      "               precision    recall  f1-score   support\n",
      "\n",
      "           0       1.00      1.00      1.00        14\n",
      "           1       1.00      1.00      1.00         6\n",
      "\n",
      "    accuracy                           1.00        20\n",
      "   macro avg       1.00      1.00      1.00        20\n",
      "weighted avg       1.00      1.00      1.00        20\n",
      "\n",
      "\n",
      "Confusion Matrix:\n",
      " [[14  0]\n",
      " [ 0  6]]\n"
     ]
    }
   ],
   "source": [
    "from sklearn.metrics import accuracy_score, classification_report, confusion_matrix\n",
    "\n",
    "# Basic accuracy\n",
    "accuracy = accuracy_score(y_test1, y_pred1)\n",
    "print(\"Accuracy:\", accuracy)\n",
    "\n",
    "# Detailed metrics: precision, recall, F1-score\n",
    "print(\"\\nClassification Report:\\n\", classification_report(y_test1, y_pred1))\n",
    "\n",
    "# Confusion matrix\n",
    "print(\"\\nConfusion Matrix:\\n\", confusion_matrix(y_test1, y_pred1))\n"
   ]
  },
  {
   "cell_type": "code",
   "execution_count": 17,
   "id": "e13638da-2cb1-42a4-af3b-ba63d2099f12",
   "metadata": {},
   "outputs": [
    {
     "data": {
      "image/png": "[encoded data removed]",
      "text/plain": [
       "<Figure size 640x480 with 2 Axes>"
      ]
     },
     "metadata": {},
     "output_type": "display_data"
    }
   ],
   "source": [
    "import seaborn as sns\n",
    "import matplotlib.pyplot as plt\n",
    "from sklearn.metrics import ConfusionMatrixDisplay\n",
    "\n",
    "ConfusionMatrixDisplay.from_predictions(y_test1, y_pred1)\n",
    "plt.title(\"Confusion Matrix\")\n",
    "plt.show()\n"
   ]
  },
  {
   "cell_type": "code",
   "execution_count": 18,
   "id": "7e738a94-e2d6-4cbd-bf81-10e9c15d87ab",
   "metadata": {},
   "outputs": [
    {
     "name": "stdout",
     "output_type": "stream",
     "text": [
      "{'simpleimputer': SimpleImputer(), 'randomforestclassifier': RandomForestClassifier()}\n"
     ]
    }
   ],
   "source": [
    "print(model1.named_steps)\n"
   ]
  },
  {
   "cell_type": "code",
   "execution_count": 19,
   "id": "c1426d86-33f3-4790-9c3b-7684363d8b5a",
   "metadata": {},
   "outputs": [
    {
     "data": {
      "text/plain": [
       "{'imputer': SimpleImputer(),\n",
       " 'randomforestclassifier': RandomForestClassifier()}"
      ]
     },
     "execution_count": 19,
     "metadata": {},
     "output_type": "execute_result"
    }
   ],
   "source": [
    "{'imputer': SimpleImputer(), 'randomforestclassifier': RandomForestClassifier()}"
   ]
  },
  {
   "cell_type": "code",
   "execution_count": 20,
   "id": "8691f105-a55a-4be9-b69e-396e2f6a468a",
   "metadata": {},
   "outputs": [],
   "source": [
    "feature_importances = model1.named_steps['randomforestclassifier'].feature_importances_\n"
   ]
  },
  {
   "cell_type": "code",
   "execution_count": 21,
   "id": "2953ddbe-c4cd-4823-a47e-4524a0366ec5",
   "metadata": {},
   "outputs": [
    {
     "name": "stdout",
     "output_type": "stream",
     "text": [
      "                    Feature  Importance\n",
      "4                    Status    0.804983\n",
      "2              Sub-Category    0.075167\n",
      "1                  Category    0.057039\n",
      "0  Estimated Effort (Hours)    0.044872\n",
      "3                Risk Level    0.017939\n"
     ]
    }
   ],
   "source": [
    "# If X is a DataFrame\n",
    "feature_names = X.columns if hasattr(X, 'columns') else [f\"Feature {i}\" for i in range(len(feature_importances))]\n",
    "\n",
    "import pandas as pd\n",
    "\n",
    "importance_df = pd.DataFrame({\n",
    "    'Feature': feature_names,\n",
    "    'Importance': feature_importances\n",
    "}).sort_values(by='Importance', ascending=False)\n",
    "\n",
    "print(importance_df)\n"
   ]
  },
  {
   "cell_type": "code",
   "execution_count": 22,
   "id": "385b5d6b-b507-453d-a32a-147cea6da2e5",
   "metadata": {},
   "outputs": [
    {
     "data": {
      "image/png": "[encoded data removed]",
      "text/plain": [
       "<Figure size 1000x600 with 1 Axes>"
      ]
     },
     "metadata": {},
     "output_type": "display_data"
    }
   ],
   "source": [
    "import seaborn as sns\n",
    "import matplotlib.pyplot as plt\n",
    "\n",
    "plt.figure(figsize=(10, 6))\n",
    "sns.barplot(x='Importance', y='Feature', data=importance_df)\n",
    "plt.title('Feature Importance (Random Forest)')\n",
    "plt.tight_layout()\n",
    "plt.show()\n"
   ]
  },
  {
   "cell_type": "code",
   "execution_count": 23,
   "id": "8a2a2ec4-8fbc-4178-9c92-524b4180bfac",
   "metadata": {},
   "outputs": [
    {
     "data": {
      "text/plain": [
       "Task ID                      0\n",
       "Task Name                    0\n",
       "Description                  0\n",
       "Priority                     0\n",
       "Status                       0\n",
       "Due Date                     0\n",
       "Assigned To                  0\n",
       "Created By                   0\n",
       "Creation Date                0\n",
       "Last Updated                75\n",
       "Dependencies                 0\n",
       "Estimated Effort (Hours)     0\n",
       "Actual Effort (Hours)        0\n",
       "Completion Percentage       75\n",
       "Notes                        9\n",
       "Category                     0\n",
       "Sub-Category                 0\n",
       "Location                     0\n",
       "Risk Level                   0\n",
       "Risk Description             0\n",
       "Resolution Plan              0\n",
       "Unnamed: 30                 62\n",
       "On_Time_Completion           0\n",
       "dtype: int64"
      ]
     },
     "execution_count": 23,
     "metadata": {},
     "output_type": "execute_result"
    }
   ],
   "source": [
    "df.isnull().sum()"
   ]
  },
  {
   "cell_type": "code",
   "execution_count": 33,
   "id": "4450eaa4-1d47-425a-9e6c-103630c54a69",
   "metadata": {},
   "outputs": [],
   "source": [
    "train_pred1= model1.predict(X_train1)"
   ]
  },
  {
   "cell_type": "code",
   "execution_count": 34,
   "id": "55869a2d-defd-485d-b5b5-244be5091b92",
   "metadata": {},
   "outputs": [
    {
     "name": "stdout",
     "output_type": "stream",
     "text": [
      "R squared value: 1.0\n"
     ]
    }
   ],
   "source": [
    "from sklearn import metrics\n",
    "r2_train1 = metrics.r2_score(y_train1,train_pred1) #r squared value\n",
    "print('R squared value:',r2_train1)"
   ]
  },
  {
   "cell_type": "code",
   "execution_count": 35,
   "id": "acb45c25-b869-4946-8b43-94fe4e4fcfc7",
   "metadata": {},
   "outputs": [],
   "source": [
    "test_pred1= model1.predict(X_test1)"
   ]
  },
  {
   "cell_type": "code",
   "execution_count": 36,
   "id": "56638675-1819-4055-a133-8d32cd85d82c",
   "metadata": {},
   "outputs": [
    {
     "name": "stdout",
     "output_type": "stream",
     "text": [
      "R squared value: 1.0\n"
     ]
    }
   ],
   "source": [
    "r2_test1 = metrics.r2_score(y_test1,test_pred1) #r squared value\n",
    "print('R squared value:',r2_test1)"
   ]
  },
  {
   "cell_type": "markdown",
   "id": "3eaac271-a152-4f57-981c-70e7780a6e17",
   "metadata": {},
   "source": [
    "PREDICTIVE MODEL"
   ]
  },
  {
   "cell_type": "code",
   "execution_count": 45,
   "id": "882a9e50-20ca-484c-881d-4443aa5d5062",
   "metadata": {},
   "outputs": [],
   "source": [
    "import joblib\n",
    "\n",
    "# After training\n",
    "joblib.dump(encoder, 'encoder.pkl')\n",
    "joblib.dump(model1, 'model.pkl')\n",
    "\n",
    "# Later when predicting\n",
    "encoder = joblib.load('encoder.pkl')\n",
    "model1 = joblib.load('model.pkl')\n"
   ]
  },
  {
   "cell_type": "code",
   "execution_count": 53,
   "id": "af533fd1-e14d-4a02-91a2-a46f6f350145",
   "metadata": {},
   "outputs": [
    {
     "data": {
      "text/html": [
       "<style>#sk-container-id-3 {color: black;background-color: white;}#sk-container-id-3 pre{padding: 0;}#sk-container-id-3 div.sk-toggleable {background-color: white;}#sk-container-id-3 label.sk-toggleable__label {cursor: pointer;display: block;width: 100%;margin-bottom: 0;padding: 0.3em;box-sizing: border-box;text-align: center;}#sk-container-id-3 label.sk-toggleable__label-arrow:before {content: \"▸\";float: left;margin-right: 0.25em;color: #696969;}#sk-container-id-3 label.sk-toggleable__label-arrow:hover:before {color: black;}#sk-container-id-3 div.sk-estimator:hover label.sk-toggleable__label-arrow:before {color: black;}#sk-container-id-3 div.sk-toggleable__content {max-height: 0;max-width: 0;overflow: hidden;text-align: left;background-color: #f0f8ff;}#sk-container-id-3 div.sk-toggleable__content pre {margin: 0.2em;color: black;border-radius: 0.25em;background-color: #f0f8ff;}#sk-container-id-3 input.sk-toggleable__control:checked~div.sk-toggleable__content {max-height: 200px;max-width: 100%;overflow: auto;}#sk-container-id-3 input.sk-toggleable__control:checked~label.sk-toggleable__label-arrow:before {content: \"▾\";}#sk-container-id-3 div.sk-estimator input.sk-toggleable__control:checked~label.sk-toggleable__label {background-color: #d4ebff;}#sk-container-id-3 div.sk-label input.sk-toggleable__control:checked~label.sk-toggleable__label {background-color: #d4ebff;}#sk-container-id-3 input.sk-hidden--visually {border: 0;clip: rect(1px 1px 1px 1px);clip: rect(1px, 1px, 1px, 1px);height: 1px;margin: -1px;overflow: hidden;padding: 0;position: absolute;width: 1px;}#sk-container-id-3 div.sk-estimator {font-family: monospace;background-color: #f0f8ff;border: 1px dotted black;border-radius: 0.25em;box-sizing: border-box;margin-bottom: 0.5em;}#sk-container-id-3 div.sk-estimator:hover {background-color: #d4ebff;}#sk-container-id-3 div.sk-parallel-item::after {content: \"\";width: 100%;border-bottom: 1px solid gray;flex-grow: 1;}#sk-container-id-3 div.sk-label:hover label.sk-toggleable__label {background-color: #d4ebff;}#sk-container-id-3 div.sk-serial::before {content: \"\";position: absolute;border-left: 1px solid gray;box-sizing: border-box;top: 0;bottom: 0;left: 50%;z-index: 0;}#sk-container-id-3 div.sk-serial {display: flex;flex-direction: column;align-items: center;background-color: white;padding-right: 0.2em;padding-left: 0.2em;position: relative;}#sk-container-id-3 div.sk-item {position: relative;z-index: 1;}#sk-container-id-3 div.sk-parallel {display: flex;align-items: stretch;justify-content: center;background-color: white;position: relative;}#sk-container-id-3 div.sk-item::before, #sk-container-id-3 div.sk-parallel-item::before {content: \"\";position: absolute;border-left: 1px solid gray;box-sizing: border-box;top: 0;bottom: 0;left: 50%;z-index: -1;}#sk-container-id-3 div.sk-parallel-item {display: flex;flex-direction: column;z-index: 1;position: relative;background-color: white;}#sk-container-id-3 div.sk-parallel-item:first-child::after {align-self: flex-end;width: 50%;}#sk-container-id-3 div.sk-parallel-item:last-child::after {align-self: flex-start;width: 50%;}#sk-container-id-3 div.sk-parallel-item:only-child::after {width: 0;}#sk-container-id-3 div.sk-dashed-wrapped {border: 1px dashed gray;margin: 0 0.4em 0.5em 0.4em;box-sizing: border-box;padding-bottom: 0.4em;background-color: white;}#sk-container-id-3 div.sk-label label {font-family: monospace;font-weight: bold;display: inline-block;line-height: 1.2em;}#sk-container-id-3 div.sk-label-container {text-align: center;}#sk-container-id-3 div.sk-container {/* jupyter's `normalize.less` sets `[hidden] { display: none; }` but bootstrap.min.css set `[hidden] { display: none !important; }` so we also need the `!important` here to be able to override the default hidden behavior on the sphinx rendered scikit-learn.org. See: https://github.com/scikit-learn/scikit-learn/issues/21755 */display: inline-block !important;position: relative;}#sk-container-id-3 div.sk-text-repr-fallback {display: none;}</style><div id=\"sk-container-id-3\" class=\"sk-top-container\"><div class=\"sk-text-repr-fallback\"><pre>RandomForestClassifier()</pre><b>In a Jupyter environment, please rerun this cell to show the HTML representation or trust the notebook. <br />On GitHub, the HTML representation is unable to render, please try loading this page with nbviewer.org.</b></div><div class=\"sk-container\" hidden><div class=\"sk-item\"><div class=\"sk-estimator sk-toggleable\"><input class=\"sk-toggleable__control sk-hidden--visually\" id=\"sk-estimator-id-3\" type=\"checkbox\" checked><label for=\"sk-estimator-id-3\" class=\"sk-toggleable__label sk-toggleable__label-arrow\">RandomForestClassifier</label><div class=\"sk-toggleable__content\"><pre>RandomForestClassifier()</pre></div></div></div></div></div>"
      ],
      "text/plain": [
       "RandomForestClassifier()"
      ]
     },
     "execution_count": 53,
     "metadata": {},
     "output_type": "execute_result"
    }
   ],
   "source": [
    "from sklearn.compose import ColumnTransformer\n",
    "from sklearn.preprocessing import OneHotEncoder\n",
    "from sklearn.ensemble import RandomForestRegressor\n",
    "\n",
    "categorical_cols = ['Category', 'Risk Level', 'Status', 'Sub-Category']\n",
    "numerical_cols = ['Estimated Effort (Hours)']\n",
    "\n",
    "preprocessor = ColumnTransformer([\n",
    "    ('cat', OneHotEncoder(handle_unknown='ignore'), categorical_cols),\n",
    "    ('num', 'passthrough', numerical_cols)\n",
    "])\n",
    "\n",
    "X_transformed = preprocessor.fit_transform(X_train1)\n",
    "model1.fit(X_transformed, y_train1)\n"
   ]
  },
  {
   "cell_type": "code",
   "execution_count": 61,
   "id": "05899a65-eaec-43b7-80fc-0e47743c80f8",
   "metadata": {},
   "outputs": [
    {
     "name": "stdout",
     "output_type": "stream",
     "text": [
      "On Time completion: 1\n"
     ]
    }
   ],
   "source": [
    "import pandas as pd\n",
    "\n",
    "# Step 1: Input new data in the same format as training\n",
    "input_data = pd.DataFrame([{\n",
    "    'Category': 'Software',\n",
    "    'Risk Level': 'Medium',\n",
    "    'Status': 'Ongoing',\n",
    "    'Sub-Category': 'Development',\n",
    "    'Estimated Effort (Hours)': 120\n",
    "}])\n",
    "\n",
    "# Step 2: Match the order of columns used during training\n",
    "input_data = input_data[preprocessor.feature_names_in_]\n",
    "\n",
    "# Step 3: Transform the new input using the same preprocessor\n",
    "input_transformed = preprocessor.transform(input_data)\n",
    "\n",
    "# Step 4: Use the trained model to predict\n",
    "prediction = model1.predict(input_transformed)\n",
    "\n",
    "# Step 5: Display the result\n",
    "print('On Time completion:', prediction[0])\n"
   ]
  },
  {
   "cell_type": "code",
   "execution_count": 65,
   "id": "7fcadb27-93b4-44cb-8183-42294d963498",
   "metadata": {},
   "outputs": [
    {
     "name": "stdout",
     "output_type": "stream",
     "text": [
      "On time completion = Yes\n"
     ]
    }
   ],
   "source": [
    "# Step 4: Use the trained model to predict\n",
    "prediction = model1.predict(input_transformed)\n",
    "\n",
    "# Step 5: Print custom message based on prediction\n",
    "# Step 5: Display the result with human-readable interpretation\n",
    "if prediction[0] == 1:\n",
    "    print(\"On time completion = Yes\")\n",
    "else:\n",
    "    print(\"On time completion = No\")\n"
   ]
  },
  {
   "cell_type": "code",
   "execution_count": 58,
   "id": "23b6d543-2106-430f-8173-c9644253464c",
   "metadata": {},
   "outputs": [
    {
     "data": {
      "text/plain": [
       "['model.pkl']"
      ]
     },
     "execution_count": 58,
     "metadata": {},
     "output_type": "execute_result"
    }
   ],
   "source": [
    "import joblib\n",
    "\n",
    "# Save\n",
    "joblib.dump(preprocessor, 'preprocessor.pkl')\n",
    "joblib.dump(model1, 'model.pkl')\n"
   ]
  },
  {
   "cell_type": "code",
   "execution_count": 59,
   "id": "199252f5-fe20-45b0-871e-39b4ea541487",
   "metadata": {},
   "outputs": [],
   "source": [
    "# Load\n",
    "preprocessor = joblib.load('preprocessor.pkl')\n",
    "model1 = joblib.load('model.pkl')\n"
   ]
  },
  {
   "cell_type": "code",
   "execution_count": null,
   "id": "700d4394-527b-4a97-b96b-683000410620",
   "metadata": {},
   "outputs": [],
   "source": []
  }
 ],
 "metadata": {
  "kernelspec": {
   "display_name": "Python 3 (ipykernel)",
   "language": "python",
   "name": "python3"
  },
  "language_info": {
   "codemirror_mode": {
    "name": "ipython",
    "version": 3
   },
   "file_extension": ".py",
   "mimetype": "text/x-python",
   "name": "python",
   "nbconvert_exporter": "python",
   "pygments_lexer": "ipython3",
   "version": "3.11.7"
  }
 },
 "nbformat": 4,
 "nbformat_minor": 5
}
